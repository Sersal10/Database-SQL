{
 "cells": [
  {
   "cell_type": "markdown",
   "id": "0c602684",
   "metadata": {},
   "source": [
    "# BASE DE DATOS"
   ]
  },
  {
   "cell_type": "code",
   "execution_count": 2,
   "id": "c125d2b5",
   "metadata": {},
   "outputs": [],
   "source": [
    "import mysql.connector\n",
    "import pandas as pd\n",
    "import json\n",
    "\n",
    "import random, string\n",
    "from random import randrange\n",
    "from datetime import datetime\n",
    "\n",
    "\n",
    "import warnings\n",
    "warnings.filterwarnings(\"ignore\")"
   ]
  },
  {
   "cell_type": "code",
   "execution_count": 3,
   "id": "8d7754dc",
   "metadata": {},
   "outputs": [],
   "source": [
    "db = mysql.connector.connect(\n",
    "    host = \"localhost\",\n",
    "    user=\"root\",\n",
    "    password=\"1234\",\n",
    "    \n",
    ")"
   ]
  },
  {
   "cell_type": "code",
   "execution_count": 4,
   "id": "b3d728a8",
   "metadata": {},
   "outputs": [],
   "source": [
    "def sql(_query):\n",
    "    return pd.read_sql_query(_query, db)"
   ]
  },
  {
   "cell_type": "code",
   "execution_count": 5,
   "id": "132e8ad6",
   "metadata": {},
   "outputs": [],
   "source": [
    "cursor = db.cursor()"
   ]
  },
  {
   "cell_type": "code",
   "execution_count": 6,
   "id": "b5061db2",
   "metadata": {},
   "outputs": [],
   "source": [
    "cursor.execute(\"CREATE DATABASE StarWars_JSON\")\n",
    "db.commit()"
   ]
  },
  {
   "cell_type": "code",
   "execution_count": 7,
   "id": "810a6ee4",
   "metadata": {},
   "outputs": [],
   "source": [
    "db = mysql.connector.connect(\n",
    "    host = \"localhost\",\n",
    "    user=\"root\",\n",
    "    password=\"1234\",\n",
    "    database= \"StarWars_JSON\"\n",
    ")"
   ]
  },
  {
   "cell_type": "code",
   "execution_count": 8,
   "id": "42319f82",
   "metadata": {},
   "outputs": [],
   "source": [
    "cursor = db.cursor()"
   ]
  },
  {
   "cell_type": "code",
   "execution_count": 9,
   "id": "5655e37f",
   "metadata": {},
   "outputs": [],
   "source": [
    "query= \"\"\"\n",
    "    CREATE TABLE Tipo_armas (    \n",
    "        id_tipo_arma INT PRIMARY KEY NOT NULL AUTO_INCREMENT,\n",
    "        tipo_arma VARCHAR(50));\n",
    "\"\"\"\n",
    "cursor.execute(query)\n",
    "db.commit()"
   ]
  },
  {
   "cell_type": "code",
   "execution_count": 10,
   "id": "f250b921",
   "metadata": {},
   "outputs": [],
   "source": [
    "query= \"\"\"\n",
    "CREATE TABLE Comerciantes (\n",
    "    id_comerciante INTEGER PRIMARY KEY NOT NULL AUTO_INCREMENT,\n",
    "    comerciante VARCHAR (50)    \n",
    ");\n",
    "\"\"\"\n",
    "cursor.execute(query)\n",
    "db.commit()"
   ]
  },
  {
   "cell_type": "code",
   "execution_count": 11,
   "id": "f24adb2b",
   "metadata": {},
   "outputs": [],
   "source": [
    "query= \"\"\"\n",
    "CREATE TABLE Divisiones (\n",
    "  id_division INTEGER PRIMARY KEY NOT NULL AUTO_INCREMENT,\n",
    "  \n",
    "  division VARCHAR (50),\n",
    "  naves INTEGER,\n",
    "  droides INTEGER,\n",
    "  veh_terrestres INTEGER,\n",
    "  soldados INTEGER,\n",
    "  bajas INTEGER);\n",
    "\"\"\"\n",
    "cursor.execute(query)\n",
    "db.commit()"
   ]
  },
  {
   "cell_type": "code",
   "execution_count": 12,
   "id": "d07132d8",
   "metadata": {},
   "outputs": [],
   "source": [
    "query= \"\"\"\n",
    "\n",
    "CREATE TABLE lideres (\n",
    "      id_lider INTEGER PRIMARY KEY NOT NULL AUTO_INCREMENT,\n",
    "      \n",
    "      lider VARCHAR (50)  \n",
    ");\n",
    "\"\"\"\n",
    "\n",
    "cursor.execute(query)\n",
    "db.commit()"
   ]
  },
  {
   "cell_type": "code",
   "execution_count": 13,
   "id": "621bfc6b",
   "metadata": {},
   "outputs": [],
   "source": [
    "query= \"\"\"\n",
    "\n",
    "CREATE TABLE Causas (\n",
    "  id_causa INTEGER PRIMARY KEY NOT NULL AUTO_INCREMENT,\n",
    "  causa VARCHAR (50)\n",
    ");\n",
    "\"\"\"\n",
    "cursor.execute(query)\n",
    "db.commit()"
   ]
  },
  {
   "cell_type": "code",
   "execution_count": 14,
   "id": "1e6453eb",
   "metadata": {},
   "outputs": [],
   "source": [
    "query= \"\"\"\n",
    "\n",
    "CREATE TABLE Territorios (\n",
    "  id_territorio INTEGER PRIMARY KEY NOT NULL AUTO_INCREMENT,\n",
    "  territorio VARCHAR (50)\n",
    ");\n",
    "\"\"\"\n",
    "cursor.execute(query)\n",
    "db.commit()"
   ]
  },
  {
   "cell_type": "code",
   "execution_count": 15,
   "id": "de1075f0",
   "metadata": {},
   "outputs": [],
   "source": [
    "query= \"\"\"\n",
    "\n",
    "CREATE TABLE Religiones (\n",
    "  id_religion INTEGER PRIMARY KEY NOT NULL AUTO_INCREMENT,\n",
    "  religion VARCHAR (50)\n",
    ");\n",
    "\"\"\"\n",
    "cursor.execute(query)\n",
    "db.commit()"
   ]
  },
  {
   "cell_type": "code",
   "execution_count": 16,
   "id": "0fd7bf74",
   "metadata": {},
   "outputs": [],
   "source": [
    "query= \"\"\"\n",
    "\n",
    "CREATE TABLE Suministros (\n",
    "  id_suministro INTEGER PRIMARY KEY NOT NULL AUTO_INCREMENT,\n",
    "  suministro VARCHAR (50)\n",
    ");\n",
    "\"\"\"\n",
    "cursor.execute(query)\n",
    "db.commit()"
   ]
  },
  {
   "cell_type": "code",
   "execution_count": 17,
   "id": "958849a8",
   "metadata": {},
   "outputs": [],
   "source": [
    "query= \"\"\"\n",
    "\n",
    "CREATE TABLE Razas (\n",
    "  id_raza INTEGER PRIMARY KEY NOT NULL AUTO_INCREMENT,\n",
    "  raza VARCHAR (50)\n",
    ");\n",
    "\"\"\"\n",
    "cursor.execute(query)\n",
    "db.commit()"
   ]
  },
  {
   "cell_type": "code",
   "execution_count": 18,
   "id": "42c76ea1",
   "metadata": {},
   "outputs": [],
   "source": [
    "query= \"\"\"\n",
    "CREATE TABLE Planetas (\n",
    "  id_planeta INTEGER PRIMARY KEY NOT NULL AUTO_INCREMENT,\n",
    "  planeta VARCHAR (50)\n",
    ");\n",
    "\"\"\"\n",
    "cursor.execute(query)\n",
    "db.commit()"
   ]
  },
  {
   "cell_type": "code",
   "execution_count": 20,
   "id": "62008e66",
   "metadata": {},
   "outputs": [
    {
     "ename": "ProgrammingError",
     "evalue": "1064 (42000): You have an error in your SQL syntax; check the manual that corresponds to your MySQL server version for the right syntax to use near 'Org_mediadoras.id_lider_json_fk, '$.Lider1')) REFERENCES Lideres(id_lider)),\n   ' at line 12",
     "output_type": "error",
     "traceback": [
      "\u001b[1;31m---------------------------------------------------------------------------\u001b[0m",
      "\u001b[1;31mMySQLInterfaceError\u001b[0m                       Traceback (most recent call last)",
      "File \u001b[1;32m~\\anaconda3\\lib\\site-packages\\mysql\\connector\\connection_cext.py:565\u001b[0m, in \u001b[0;36mCMySQLConnection.cmd_query\u001b[1;34m(self, query, raw, buffered, raw_as_string)\u001b[0m\n\u001b[0;32m    564\u001b[0m         query \u001b[38;5;241m=\u001b[39m query\u001b[38;5;241m.\u001b[39mencode(\u001b[38;5;124m\"\u001b[39m\u001b[38;5;124mutf-8\u001b[39m\u001b[38;5;124m\"\u001b[39m)\n\u001b[1;32m--> 565\u001b[0m     \u001b[38;5;28;43mself\u001b[39;49m\u001b[38;5;241;43m.\u001b[39;49m\u001b[43m_cmysql\u001b[49m\u001b[38;5;241;43m.\u001b[39;49m\u001b[43mquery\u001b[49m\u001b[43m(\u001b[49m\n\u001b[0;32m    566\u001b[0m \u001b[43m        \u001b[49m\u001b[43mquery\u001b[49m\u001b[43m,\u001b[49m\n\u001b[0;32m    567\u001b[0m \u001b[43m        \u001b[49m\u001b[43mraw\u001b[49m\u001b[38;5;241;43m=\u001b[39;49m\u001b[43mraw\u001b[49m\u001b[43m,\u001b[49m\n\u001b[0;32m    568\u001b[0m \u001b[43m        \u001b[49m\u001b[43mbuffered\u001b[49m\u001b[38;5;241;43m=\u001b[39;49m\u001b[43mbuffered\u001b[49m\u001b[43m,\u001b[49m\n\u001b[0;32m    569\u001b[0m \u001b[43m        \u001b[49m\u001b[43mraw_as_string\u001b[49m\u001b[38;5;241;43m=\u001b[39;49m\u001b[43mraw_as_string\u001b[49m\u001b[43m,\u001b[49m\n\u001b[0;32m    570\u001b[0m \u001b[43m        \u001b[49m\u001b[43mquery_attrs\u001b[49m\u001b[38;5;241;43m=\u001b[39;49m\u001b[38;5;28;43mself\u001b[39;49m\u001b[38;5;241;43m.\u001b[39;49m\u001b[43m_query_attrs\u001b[49m\u001b[43m,\u001b[49m\n\u001b[0;32m    571\u001b[0m \u001b[43m    \u001b[49m\u001b[43m)\u001b[49m\n\u001b[0;32m    572\u001b[0m \u001b[38;5;28;01mexcept\u001b[39;00m MySQLInterfaceError \u001b[38;5;28;01mas\u001b[39;00m err:\n",
      "\u001b[1;31mMySQLInterfaceError\u001b[0m: You have an error in your SQL syntax; check the manual that corresponds to your MySQL server version for the right syntax to use near 'Org_mediadoras.id_lider_json_fk, '$.Lider1')) REFERENCES Lideres(id_lider)),\n   ' at line 12",
      "\nThe above exception was the direct cause of the following exception:\n",
      "\u001b[1;31mProgrammingError\u001b[0m                          Traceback (most recent call last)",
      "Input \u001b[1;32mIn [20]\u001b[0m, in \u001b[0;36m<cell line: 18>\u001b[1;34m()\u001b[0m\n\u001b[0;32m      1\u001b[0m query\u001b[38;5;241m=\u001b[39m \u001b[38;5;124m\"\"\"\u001b[39m\n\u001b[0;32m      2\u001b[0m \n\u001b[0;32m      3\u001b[0m \u001b[38;5;124mCREATE TABLE Org_mediadoras (\u001b[39m\n\u001b[1;32m   (...)\u001b[0m\n\u001b[0;32m     16\u001b[0m \u001b[38;5;124m);\u001b[39m\n\u001b[0;32m     17\u001b[0m \u001b[38;5;124m\"\"\"\u001b[39m\n\u001b[1;32m---> 18\u001b[0m \u001b[43mcursor\u001b[49m\u001b[38;5;241;43m.\u001b[39;49m\u001b[43mexecute\u001b[49m\u001b[43m(\u001b[49m\u001b[43mquery\u001b[49m\u001b[43m)\u001b[49m\n\u001b[0;32m     19\u001b[0m db\u001b[38;5;241m.\u001b[39mcommit()\n",
      "File \u001b[1;32m~\\anaconda3\\lib\\site-packages\\mysql\\connector\\cursor_cext.py:279\u001b[0m, in \u001b[0;36mCMySQLCursor.execute\u001b[1;34m(self, operation, params, multi)\u001b[0m\n\u001b[0;32m    274\u001b[0m             \u001b[38;5;28;01mraise\u001b[39;00m ProgrammingError(\n\u001b[0;32m    275\u001b[0m                 \u001b[38;5;124m\"\u001b[39m\u001b[38;5;124mNot all parameters were used in the SQL statement\u001b[39m\u001b[38;5;124m\"\u001b[39m\n\u001b[0;32m    276\u001b[0m             )\n\u001b[0;32m    278\u001b[0m \u001b[38;5;28;01mtry\u001b[39;00m:\n\u001b[1;32m--> 279\u001b[0m     result \u001b[38;5;241m=\u001b[39m \u001b[38;5;28;43mself\u001b[39;49m\u001b[38;5;241;43m.\u001b[39;49m\u001b[43m_cnx\u001b[49m\u001b[38;5;241;43m.\u001b[39;49m\u001b[43mcmd_query\u001b[49m\u001b[43m(\u001b[49m\n\u001b[0;32m    280\u001b[0m \u001b[43m        \u001b[49m\u001b[43mstmt\u001b[49m\u001b[43m,\u001b[49m\n\u001b[0;32m    281\u001b[0m \u001b[43m        \u001b[49m\u001b[43mraw\u001b[49m\u001b[38;5;241;43m=\u001b[39;49m\u001b[38;5;28;43mself\u001b[39;49m\u001b[38;5;241;43m.\u001b[39;49m\u001b[43m_raw\u001b[49m\u001b[43m,\u001b[49m\n\u001b[0;32m    282\u001b[0m \u001b[43m        \u001b[49m\u001b[43mbuffered\u001b[49m\u001b[38;5;241;43m=\u001b[39;49m\u001b[38;5;28;43mself\u001b[39;49m\u001b[38;5;241;43m.\u001b[39;49m\u001b[43m_buffered\u001b[49m\u001b[43m,\u001b[49m\n\u001b[0;32m    283\u001b[0m \u001b[43m        \u001b[49m\u001b[43mraw_as_string\u001b[49m\u001b[38;5;241;43m=\u001b[39;49m\u001b[38;5;28;43mself\u001b[39;49m\u001b[38;5;241;43m.\u001b[39;49m\u001b[43m_raw_as_string\u001b[49m\u001b[43m,\u001b[49m\n\u001b[0;32m    284\u001b[0m \u001b[43m    \u001b[49m\u001b[43m)\u001b[49m\n\u001b[0;32m    285\u001b[0m \u001b[38;5;28;01mexcept\u001b[39;00m MySQLInterfaceError \u001b[38;5;28;01mas\u001b[39;00m err:\n\u001b[0;32m    286\u001b[0m     \u001b[38;5;28;01mraise\u001b[39;00m get_mysql_exception(\n\u001b[0;32m    287\u001b[0m         msg\u001b[38;5;241m=\u001b[39merr\u001b[38;5;241m.\u001b[39mmsg, errno\u001b[38;5;241m=\u001b[39merr\u001b[38;5;241m.\u001b[39merrno, sqlstate\u001b[38;5;241m=\u001b[39merr\u001b[38;5;241m.\u001b[39msqlstate\n\u001b[0;32m    288\u001b[0m     ) \u001b[38;5;28;01mfrom\u001b[39;00m \u001b[38;5;21;01merr\u001b[39;00m\n",
      "File \u001b[1;32m~\\anaconda3\\lib\\site-packages\\mysql\\connector\\connection_cext.py:573\u001b[0m, in \u001b[0;36mCMySQLConnection.cmd_query\u001b[1;34m(self, query, raw, buffered, raw_as_string)\u001b[0m\n\u001b[0;32m    565\u001b[0m     \u001b[38;5;28mself\u001b[39m\u001b[38;5;241m.\u001b[39m_cmysql\u001b[38;5;241m.\u001b[39mquery(\n\u001b[0;32m    566\u001b[0m         query,\n\u001b[0;32m    567\u001b[0m         raw\u001b[38;5;241m=\u001b[39mraw,\n\u001b[1;32m   (...)\u001b[0m\n\u001b[0;32m    570\u001b[0m         query_attrs\u001b[38;5;241m=\u001b[39m\u001b[38;5;28mself\u001b[39m\u001b[38;5;241m.\u001b[39m_query_attrs,\n\u001b[0;32m    571\u001b[0m     )\n\u001b[0;32m    572\u001b[0m \u001b[38;5;28;01mexcept\u001b[39;00m MySQLInterfaceError \u001b[38;5;28;01mas\u001b[39;00m err:\n\u001b[1;32m--> 573\u001b[0m     \u001b[38;5;28;01mraise\u001b[39;00m get_mysql_exception(\n\u001b[0;32m    574\u001b[0m         err\u001b[38;5;241m.\u001b[39merrno, msg\u001b[38;5;241m=\u001b[39merr\u001b[38;5;241m.\u001b[39mmsg, sqlstate\u001b[38;5;241m=\u001b[39merr\u001b[38;5;241m.\u001b[39msqlstate\n\u001b[0;32m    575\u001b[0m     ) \u001b[38;5;28;01mfrom\u001b[39;00m \u001b[38;5;21;01merr\u001b[39;00m\n\u001b[0;32m    576\u001b[0m \u001b[38;5;28;01mexcept\u001b[39;00m \u001b[38;5;167;01mAttributeError\u001b[39;00m \u001b[38;5;28;01mas\u001b[39;00m err:\n\u001b[0;32m    577\u001b[0m     addr \u001b[38;5;241m=\u001b[39m (\n\u001b[0;32m    578\u001b[0m         \u001b[38;5;28mself\u001b[39m\u001b[38;5;241m.\u001b[39m_unix_socket \u001b[38;5;28;01mif\u001b[39;00m \u001b[38;5;28mself\u001b[39m\u001b[38;5;241m.\u001b[39m_unix_socket \u001b[38;5;28;01melse\u001b[39;00m \u001b[38;5;124mf\u001b[39m\u001b[38;5;124m\"\u001b[39m\u001b[38;5;132;01m{\u001b[39;00m\u001b[38;5;28mself\u001b[39m\u001b[38;5;241m.\u001b[39m_host\u001b[38;5;132;01m}\u001b[39;00m\u001b[38;5;124m:\u001b[39m\u001b[38;5;132;01m{\u001b[39;00m\u001b[38;5;28mself\u001b[39m\u001b[38;5;241m.\u001b[39m_port\u001b[38;5;132;01m}\u001b[39;00m\u001b[38;5;124m\"\u001b[39m\n\u001b[0;32m    579\u001b[0m     )\n",
      "\u001b[1;31mProgrammingError\u001b[0m: 1064 (42000): You have an error in your SQL syntax; check the manual that corresponds to your MySQL server version for the right syntax to use near 'Org_mediadoras.id_lider_json_fk, '$.Lider1')) REFERENCES Lideres(id_lider)),\n   ' at line 12"
     ]
    }
   ],
   "source": [
    "query= \"\"\"\n",
    "\n",
    "CREATE TABLE Org_mediadoras (\n",
    "\n",
    "      id_org INTEGER PRIMARY KEY NOT NULL AUTO_INCREMENT,\n",
    "      mediador VARCHAR (50),\n",
    "      tipo VARCHAR(50),\n",
    "      organizacion VARCHAR(50),\n",
    "      fecha_entrada DATE,\n",
    "      fecha_salida DATE,\n",
    "      \n",
    "      id_lider_json_fk JSON NOT NULL,\n",
    "      \n",
    "     JSON_EXTRACT(Org_mediadoras.id_lider_json_fk, '$.Lider1')) REFERENCES Lideres(id_lider),\n",
    "   \n",
    ");\n",
    "\"\"\"\n",
    "cursor.execute(query)\n",
    "db.commit()"
   ]
  },
  {
   "cell_type": "code",
   "execution_count": null,
   "id": "1ffa2087",
   "metadata": {},
   "outputs": [],
   "source": [
    "query= \"\"\"\n",
    "\n",
    "CREATE TABLE Bandos (\n",
    "      id_bando INTEGER PRIMARY KEY NOT NULL AUTO_INCREMENT,\n",
    "      \n",
    "      bando VARCHAR (250),\n",
    "      fecha_entrada DATE,\n",
    "      fecha_salida DATE,\n",
    "      \n",
    "      id_division_json_fk JSON NOT NULL,\n",
    "      id_comerciante_json_fk JSON NOT NULL,\n",
    "      id_lider_json_fk JSON NOT NULL);\n",
    "\"\"\"\n",
    "cursor.execute(query)\n",
    "db.commit()"
   ]
  },
  {
   "cell_type": "code",
   "execution_count": null,
   "id": "ab4ce5ff",
   "metadata": {},
   "outputs": [],
   "source": [
    "query= \"\"\"\n",
    "\n",
    "CREATE TABLE Causa_conflictos (\n",
    "    id_causa_conflicto INTEGER PRIMARY KEY NOT NULL AUTO_INCREMENT,\n",
    "    id_causa_fk INT,\n",
    "    \n",
    "    interes_json_fk JSON NOT NULL,\n",
    "       \n",
    "    FOREIGN KEY (id_causa_fk) REFERENCES Causas(id_causa));\n",
    "\"\"\"\n",
    "cursor.execute(query)\n",
    "db.commit()"
   ]
  },
  {
   "cell_type": "code",
   "execution_count": null,
   "id": "4ded5b66",
   "metadata": {},
   "outputs": [],
   "source": [
    "query= \"\"\"\n",
    "\n",
    "CREATE TABLE Armas (\n",
    "\n",
    "    id_arma INTEGER PRIMARY KEY NOT NULL AUTO_INCREMENT,\n",
    "    arma VARCHAR (50),\n",
    "    indicador_dest INT CHECK (indicador_dest BETWEEN 1 AND 10),\n",
    "    \n",
    "    id_tipo_arma_fk INT,\n",
    "    id_comerciante_json_fk JSON NOT NULL,\n",
    "    \n",
    "    FOREIGN KEY (id_tipo_arma_fk) REFERENCES Tipo_armas(id_tipo_arma)\n",
    ");\n",
    "\"\"\"\n",
    "cursor.execute(query)\n",
    "db.commit()"
   ]
  },
  {
   "cell_type": "code",
   "execution_count": null,
   "id": "d0199ca3",
   "metadata": {},
   "outputs": [],
   "source": [
    "query= \"\"\"\n",
    "CREATE TABLE conflictos (\n",
    "\n",
    "    id_conflicto INTEGER PRIMARY KEY NOT NULL AUTO_INCREMENT,\n",
    "    conflicto VARCHAR(50),\n",
    "\n",
    "    muertos INTEGER,\n",
    "    heridos INTEGER,\n",
    "    id_causa_conflicto_fk INT,\n",
    "    id_planeta_fk INT,\n",
    "    id_org_fk INT,\n",
    "\n",
    "    id_bando_json_fk JSON NOT NULL,\n",
    "\n",
    "    FOREIGN KEY (id_causa_conflicto_fk) REFERENCES causa_conflictos(id_causa_conflicto),\n",
    "    FOREIGN KEY (id_planeta_fk) REFERENCES planetas(id_planeta),\n",
    "    FOREIGN KEY (id_org_fk) REFERENCES Org_mediadoras(id_org));\n",
    "\"\"\"\n",
    "cursor.execute(query)\n",
    "db.commit()"
   ]
  },
  {
   "cell_type": "markdown",
   "id": "e646bb00",
   "metadata": {},
   "source": [
    "# CONSULTAS"
   ]
  },
  {
   "cell_type": "markdown",
   "id": "d850fa8c",
   "metadata": {},
   "source": [
    "## El grupo armado que primero se implicó en el conflicto con mayor número de muertos y heridos hasta la fecha se de hoy (9237) sumado al conflicto de causa religiosa en el que ha habido más intervenciones mediadoras de organizaciones mediadoras."
   ]
  },
  {
   "cell_type": "code",
   "execution_count": null,
   "id": "37190839",
   "metadata": {},
   "outputs": [],
   "source": [
    "sql(\"\"\"\n",
    "SELECT * FROM conflictos WHERE (heridos + muertos) = (SELECT MAX(heridos + muertos) FROM conflictos)\n",
    "UNION\n",
    "SELECT * FROM conflictos WHERE (id_causa_conflicto_fk=3 OR id_causa_conflicto_fk=4) AND (id_org_fk!=0)\n",
    "\"\"\")"
   ]
  },
  {
   "cell_type": "markdown",
   "id": "d2f0f302",
   "metadata": {},
   "source": [
    "## Se ha producido un conflicto en Anaxes, con el resultado de 1200 muertos y 5000 heridos. Este acto está relacionado con el conflicto en el que participa el grupo armado \"Jedi\"."
   ]
  },
  {
   "cell_type": "code",
   "execution_count": null,
   "id": "89f6656c",
   "metadata": {
    "scrolled": true
   },
   "outputs": [],
   "source": [
    "query = \"\"\"\n",
    "INSERT INTO conflictos (conflicto, muertos, heridos,id_planeta_fk,id_bando_json_fk)\n",
    "\n",
    "VALUES (%s, %s, %s, %s, %s);\n",
    "\"\"\"\n",
    "values= ('Batalla de Anaxes II',1200,5000,17,json.dumps({'Bando1':5}))\n",
    "\n",
    "try:\n",
    "    cursor.execute(query, values)\n",
    "    db.commit()\n",
    "except Exception as e:\n",
    "            print(e)"
   ]
  },
  {
   "cell_type": "markdown",
   "id": "40fc4ec0",
   "metadata": {},
   "source": [
    "## Mostrar el número total de víctimas (muertos y heridos) causadas por los conflictos bélicos en cada país, incluidos los países en los que no ha habido víctimas."
   ]
  },
  {
   "cell_type": "code",
   "execution_count": null,
   "id": "ae93f4f5",
   "metadata": {},
   "outputs": [],
   "source": [
    "sql(\"\"\"\n",
    "SELECT planetas.planeta,\n",
    "COALESCE(SUM(conflictos.muertos + conflictos.heridos), 0) AS victimas \n",
    "FROM planetas\n",
    "LEFT JOIN conflictos ON conflictos.id_planeta_fk = planetas.id_planeta\n",
    "GROUP BY planetas.planeta\n",
    "ORDER BY victimas DESC\n",
    "\"\"\")"
   ]
  },
  {
   "cell_type": "markdown",
   "id": "bfc10247",
   "metadata": {},
   "source": [
    "COALESCE==>se usa para devolver 0 en caso de que un planeta no haya tenido ningún conflicto y en ese caso no habría ninguna suma."
   ]
  },
  {
   "cell_type": "markdown",
   "id": "062f5edd",
   "metadata": {},
   "source": [
    "## Mostrar los nombres de los conflictos en los que se han producido intervenciones de mediación en 8010, 8045 y 8290."
   ]
  },
  {
   "cell_type": "code",
   "execution_count": null,
   "id": "99a5b6e7",
   "metadata": {},
   "outputs": [],
   "source": [
    "sql(\"\"\"\n",
    "SELECT Conflicto FROM conflictos\n",
    "INNER JOIN org_mediadoras ON conflictos.id_org_fk = org_mediadoras.id_org\n",
    "WHERE org_mediadoras.fecha_entrada >= '8010-01-01' AND org_mediadoras.fecha_entrada <= '8010-12-31' \n",
    "OR org_mediadoras.fecha_entrada >= '8045-01-01' AND org_mediadoras.fecha_entrada <= '8045-12-31' \n",
    "OR org_mediadoras.fecha_entrada >= '8290-01-01' AND org_mediadoras.fecha_entrada <= '8290-12-31'\n",
    "\"\"\")"
   ]
  },
  {
   "cell_type": "markdown",
   "id": "c0dcacdd",
   "metadata": {},
   "source": [
    "## Mostrar los nombres de los conflictos que mantienen el conflicto religioso activo más largo."
   ]
  },
  {
   "cell_type": "code",
   "execution_count": null,
   "id": "1059f7ff",
   "metadata": {},
   "outputs": [],
   "source": [
    "sql(\"\"\"\n",
    "SELECT \n",
    "\n",
    "planetas.planeta,\n",
    "\n",
    "conflictos.conflicto,\n",
    "\n",
    "causas.causa,\n",
    "bandos.bando,\n",
    "bandos.fecha_entrada,\n",
    "bandos.fecha_salida,\n",
    "\n",
    "ROUND(DATEDIFF(bandos.fecha_salida, bandos.fecha_entrada)/365) AS tiempo_participacion\n",
    "\n",
    "FROM Conflictos\n",
    "\n",
    "INNER JOIN planetas ON\n",
    "conflictos.id_planeta_fk = planetas.id_planeta\n",
    "\n",
    "INNER JOIN causa_conflictos ON\n",
    "conflictos.id_causa_conflicto_fk = causa_conflictos.id_causa_conflicto\n",
    "\n",
    "INNER JOIN causas ON\n",
    "causa_conflictos.id_causa_conflicto = causas.id_causa\n",
    "\n",
    "LEFT JOIN bandos ON\n",
    "bandos.id_bando = JSON_EXTRACT(conflictos.id_bando_json_fk, '$.Bando1')\n",
    " \n",
    "WHERE causas.causa='Religiones'\n",
    "ORDER BY tiempo_participacion DESC\n",
    "LIMIT 1;\n",
    " \n",
    "\"\"\")"
   ]
  },
  {
   "cell_type": "markdown",
   "id": "5ead49b2",
   "metadata": {},
   "source": [
    "## Mostrar los nombres de los grupos armados que se han retirado de todos los conflictos en los que han participado, junto con la fecha en que se retiraron del último conflicto."
   ]
  },
  {
   "cell_type": "code",
   "execution_count": null,
   "id": "68461bb6",
   "metadata": {},
   "outputs": [],
   "source": [
    "sql(\"\"\"\n",
    "SELECT\n",
    "\n",
    "base.bando,\n",
    "\n",
    "MAX(base.fecha_bando1) AS Ultima_Fecha\n",
    "\n",
    "FROM(\n",
    "    SELECT \n",
    "        conflictos.conflicto,\n",
    "        bandos.bando,\n",
    "        MAX(bandos.fecha_salida) as fecha_bando1\n",
    "    FROM Conflictos\n",
    "    LEFT JOIN bandos ON\n",
    "     bandos.id_bando = JSON_EXTRACT(conflictos.id_bando_json_fk, '$.Bando1')\n",
    "    WHERE fecha_salida > 0\n",
    "    GROUP BY conflictos.conflicto,bandos.bando\n",
    "    UNION\n",
    "\n",
    "    SELECT \n",
    "        conflictos.conflicto,\n",
    "        bandos.bando,\n",
    "        MAX(bandos.fecha_salida) as fecha_bando2\n",
    "    FROM Conflictos\n",
    "    LEFT JOIN bandos ON\n",
    "     bandos.id_bando = JSON_EXTRACT(conflictos.id_bando_json_fk, '$.Bando2')\n",
    "    WHERE fecha_salida > 0\n",
    "    GROUP BY conflictos.conflicto,bandos.bando\n",
    "    UNION\n",
    "\n",
    "    SELECT \n",
    "        conflictos.conflicto,\n",
    "        bandos.bando,\n",
    "        MAX(bandos.fecha_salida) as fecha_bando3\n",
    "    FROM Conflictos\n",
    "    LEFT JOIN bandos ON\n",
    "     bandos.id_bando = JSON_EXTRACT(conflictos.id_bando_json_fk, '$.Bando3')\n",
    "    WHERE fecha_salida > 0\n",
    "    GROUP BY conflictos.conflicto, bandos.bando\n",
    "    UNION\n",
    "\n",
    "    SELECT \n",
    "        conflictos.conflicto,\n",
    "        bandos.bando,\n",
    "        MAX(bandos.fecha_salida) as fecha_bando4\n",
    "    FROM Conflictos\n",
    "    LEFT JOIN bandos ON\n",
    "     bandos.id_bando = JSON_EXTRACT(conflictos.id_bando_json_fk, '$.Bando4')\n",
    "    WHERE fecha_salida > 0\n",
    "    GROUP BY conflictos.conflicto, bandos.bando) base    \n",
    "    GROUP BY base.bando;\n",
    "\"\"\")\n"
   ]
  },
  {
   "cell_type": "markdown",
   "id": "e46a5d96",
   "metadata": {},
   "source": [
    "Subconsulta"
   ]
  },
  {
   "cell_type": "code",
   "execution_count": null,
   "id": "28759e4b",
   "metadata": {},
   "outputs": [],
   "source": [
    "sql(\"\"\"   \n",
    "    SELECT \n",
    "        conflictos.conflicto,\n",
    "        bandos.bando,\n",
    "        MAX(bandos.fecha_salida) as fecha_bando\n",
    "    FROM Conflictos\n",
    "    LEFT JOIN bandos ON\n",
    "     bandos.id_bando = JSON_EXTRACT(conflictos.id_bando_json_fk, '$.Bando1')\n",
    "    WHERE fecha_salida > 0\n",
    "    GROUP BY conflictos.conflicto,bandos.bando\n",
    "    UNION\n",
    "\n",
    "    SELECT \n",
    "        conflictos.conflicto,\n",
    "        bandos.bando,\n",
    "        MAX(bandos.fecha_salida) as fecha_bando2\n",
    "    FROM Conflictos\n",
    "    LEFT JOIN bandos ON\n",
    "     bandos.id_bando = JSON_EXTRACT(conflictos.id_bando_json_fk, '$.Bando2')\n",
    "    WHERE fecha_salida > 0\n",
    "    GROUP BY conflictos.conflicto,bandos.bando\n",
    "    UNION\n",
    "\n",
    "    SELECT \n",
    "        conflictos.conflicto,\n",
    "        bandos.bando,\n",
    "        MAX(bandos.fecha_salida) as fecha_bando3\n",
    "    FROM Conflictos\n",
    "    LEFT JOIN bandos ON\n",
    "     bandos.id_bando = JSON_EXTRACT(conflictos.id_bando_json_fk, '$.Bando3')\n",
    "    WHERE fecha_salida > 0\n",
    "    GROUP BY conflictos.conflicto, bandos.bando\n",
    "    UNION\n",
    "\n",
    "    SELECT \n",
    "        conflictos.conflicto,\n",
    "        bandos.bando,\n",
    "        MAX(bandos.fecha_salida) as fecha_bando4\n",
    "    FROM Conflictos\n",
    "    LEFT JOIN bandos ON\n",
    "     bandos.id_bando = JSON_EXTRACT(conflictos.id_bando_json_fk, '$.Bando4')\n",
    "    WHERE fecha_salida > 0\n",
    "    GROUP BY conflictos.conflicto, bandos.bando\n",
    "    \n",
    "    \"\"\")"
   ]
  },
  {
   "cell_type": "markdown",
   "id": "eaf772af",
   "metadata": {},
   "source": [
    "# DATOS"
   ]
  },
  {
   "cell_type": "code",
   "execution_count": null,
   "id": "e8480214",
   "metadata": {},
   "outputs": [],
   "source": [
    "query=\"\"\"INSERT INTO planetas (planeta) VALUES   (\"Kamino\"),  (\"Geonosis\"),  (\"Utapau\"),  (\"Mustafar\"),  (\"Kashyyyk\"),  (\"Polis Massa\"),  (\"Mygeeto\"),  (\"Felucia\"),  (\"Cato Neimoidia\"),  (\"Christophsis\"),  (\"Aletta\"),  (\"Vallt\"),  (\"Florrum\"),  (\"Phindar\"),  (\"Kessel\"),  (\"Boz Pity\"),  (\"Anaxes\"),  (\"Galactic City\"),  (\"Lothal\"),  (\"Lotho Minor\");\n",
    "INSERT INTO causas (causa) VALUES  (\"Territorios\"), (\"Religiones\"), (\"Suministros\"), (\"Razas\");\n",
    "INSERT INTO religiones (religion) VALUES (\"La Fuerza\"), (\"Orden Jedi\"), (\"Orden Sith\"), (\"Templo de las Estrellas\"), (\"Círculo Cósmico\"), (\"Templo del Dragón Galáctico\"), (\"Dios del Universo\"), (\"Caminante del Cosmos\"), (\"Religión de los Eternos\"), (\"Orden de los Guerreros Galácticos\");\n",
    "INSERT INTO suministros (suministro) VALUES  (\"Oro\"), (\"Plata\"), (\"Cristal Kyber\"), (\"Mineral Cortosis\"), (\"Gemas Poderosas\"), (\"Petroleo\"), (\"Gas\"), (\"Acero\"), (\"Titánio\"), (\"Níquel\"), (\"Alimentos\"), (\"Agua Potable\");\n",
    "INSERT INTO razas (raza) VALUES  (\"Humanos\"), (\"Wookiees\"), (\"Twi'leks\"), (\"Ewoks\"), (\"Jawas\"), (\"Rodianos\"), (\"Gamorreanos\"), (\"Trandoshanos\"), (\"Hutts\"), (\"Kel Dor\"), (\"Zabrak\"), (\"Sullustanos\"), (\"Mon Calamari\"), (\"Togrutas\"), (\"Rattatakis\"), (\"Nautolanas\"), (\"Chiss\"), (\"Gran\"), (\"Gungan\"), (\"Duros\");\n",
    "INSERT INTO territorios (territorio) values  (\"Mos Eisley\"), (\"Mos Espa\"), (\"Theed\"), (\"Mos Taike\"), (\"Mos Shuuta\"), (\"Mos Eisley Spaceport\"), (\"Mos Entha\"), (\"Cloud City\"), (\"Mos Eisley Cantina\"), (\"Coruscant\"), (\"Kaadara\"), (\"Theed Hangar\"), (\"Keren\"), (\"Chalmun's Spaceport Cantina\"), (\"Anchorhead\"), (\"Theed Royal Palace\");\n",
    "INSERT INTO lideres (lider) VALUES   (\"Emperor Palpatine\"), (\"Darth Vader\"), (\"Grand Moff Tarkin\"), (\"Admiral Ackbar\"), (\"Mon Mothma\"), (\"Yoda\"), (\"Mace Windu\"), (\"Bail Organa\"), (\"Princess Leia\"), (\"Lando Calrissian\"), (\"Padmé Amidala\"), (\"Shaak Ti\"), (\"Aayla Secura\"), (\"Plo Koon\"), (\"Ki-Adi-Mundi\"), (\"Agen Kolar\"), (\"Saesee Tiin\"), (\"Kit Fisto\"), (\"Qui-Gon Jinn\"), (\"Count Dooku\");\n",
    "INSERT INTO tipo_armas (id_tipo_arma, tipo_arma) VALUES (1, 'Armas de cuerpo a cuerpo'),(2, 'Armas de disparo'),(3, 'Armas de destrucción masiva');\n",
    "\n",
    "INSERT INTO armas (id_arma, arma, indicador_dest, id_tipo_arma_fk, id_comerciante_json_fk)VALUES \n",
    "      (1, 'Sable de luz', 9, 1, '{\"Comerciante1\":1,\"Comerciante2\":4}'),\n",
    "      (2, 'Lanza de plasma', 7, 1, '{\"Comerciante1\":2,\"Comerciante2\":5,\"Comerciante3\":6}'),\n",
    "      (3, 'Pistola blaster', 6, 2, '{\"Comerciante1\":7,\"Comerciante2\":9}'),\n",
    "      (4, 'Arma de rayo', 8, 2, '{\"Comerciante1\":8,\"Comerciante2\":10}'),\n",
    "      (5, 'Lanzagranadas', 8, 2, '{\"Comerciante1\":11}'),\n",
    "      (6, 'Disintegrador', 10, 2, '{\"Comerciante1\":1,\"Comerciante2\":2,\"Comerciante3\":3,\"Comerciante4\":4,\"Comerciante5\":7}'),\n",
    "      (7, 'Lanzacohetes', 9, 2, '{\"Comerciante1\":6,\"Comerciante2\":8,\"Comerciante3\":9}'),\n",
    "      (8, 'Cañón de iones', 10, 2, '{\"Comerciante1\":10,\"Comerciante2\":11}'),\n",
    "      (9, 'Flechas de plasma', 7, 2, '{\"Comerciante1\":1,\"Comerciante2\":2,\"Comerciante3\":3,\"Comerciante4\":4}'),\n",
    "      (10, 'Cargador de explosivos', 9, 2, '{\"Comerciante1\":7,\"Comerciante2\":6,\"Comerciante3\":8}'),\n",
    "      (11, 'Fusil de asalto blaster', 7, 2, '{\"Comerciante1\":9,\"Comerciante2\":10}'),\n",
    "      (12, 'Cargador de láser', 8, 2, '{\"Comerciante1\":11}'),\n",
    "      (13, 'Lanza de choque', 6, 2, '{\"Comerciante1\":1,\"Comerciante2\":2,\"Comerciante3\":3}'),\n",
    "      (14, 'Dispositivo de destrucción planetaria', 10, 3, '{\"Comerciante1\":4,\"Comerciante2\":7,\"Comerciante3\":6,\"Comerciante4\":8}'),\n",
    "      (15, 'Cetro láser', 8, 3, '{\"Comerciante1\":9,\"Comerciante2\":10,\"Comerciante3\":11}'),\n",
    "      (16, 'Lanzamisiles', 9, 2, '{\"Comerciante1\":1,\"Comerciante2\":2,\"Comerciante3\":3}'),\n",
    "      (17, 'Escopeta de blaster', 6, 2, '{\"Comerciante1\":4,\"Comerciante2\":7}'),\n",
    "      (18, 'Arma de rayo láser', 9, 2, '{\"Comerciante1\":6,\"Comerciante2\":8,\"Comerciante3\":9}'),\n",
    "      (19, 'Lanza de energía', 8, 1, '{\"Comerciante1\":10,\"Comerciante2\":11}'),\n",
    "      (20, 'Dispositivo de minado', 7, 3, '{\"Comerciante1\":1,\"Comerciante2\":2,\"Comerciante3\":3,\"Comerciante4\":4}');\n",
    "\n",
    "INSERT INTO comerciantes (id_comerciante, comerciante)\n",
    "VALUES (1, 'Tobb Jadak'),\n",
    "       (2, 'Figrin D''an'),\n",
    "       (3, 'Wuher'),\n",
    "       (4, 'Gha Nachkt'),\n",
    "       (5, 'Watto'),\n",
    "       (6, 'Teemo el Tasa'),\n",
    "       (7, 'Jabba el Hutt'),\n",
    "       (8, 'URoRRuR''R''R'),\n",
    "       (9, 'Gorga Desilijic Aarrpo'),\n",
    "       (10, 'Arsin Crassus');\n",
    "\n",
    "INSERT INTO divisiones (id_division, division, naves, droides, veh_terrestres, soldados, bajas)\n",
    "VALUES (1, 'Flota de la Fuerza', 10, 50, 5, 7000, 1000),\n",
    "       (2, 'Flota del Caos', 20, 60, 10, 5000, 5000),\n",
    "       (3, 'Flota de la Rebelión', 15, 70, 3, 4000, 2000),\n",
    "       (4, 'Flota del Imperio', 25, 80, 8, 8000, 7000),\n",
    "       (5, 'Flota de la Luz', 12, 55, 6, 3000, 1200),\n",
    "       (6, 'Flota de las Tinieblas', 22, 65, 11, 9000, 5500),\n",
    "       (7, 'Flota de la Esperanza', 17, 75, 4, 3500, 2200),\n",
    "       (8, 'Flota de la Desesperación', 27, 85, 9, 8500, 7500),\n",
    "       (9, 'Flota de la Paz', 14, 50, 7, 3200, 1400),\n",
    "       (10, 'Flota de la Guerra', 24, 60, 12, 6000, 6000),\n",
    "       (11, 'Flota de la Armonía', 19, 70, 5, 4000, 2400),\n",
    "       (12, 'Flota del Desorden', 29, 80, 10, 9500, 8000),\n",
    "       (13, 'Flota de la Justicia', 16, 55, 8, 3500, 1600),\n",
    "       (14, 'Flota de la Injusticia', 26, 65, 13, 7000, 6500),\n",
    "       (15, 'Flota de la Orden', 21, 75, 6, 4500, 2600),\n",
    "       (16, 'Flota del Caos', 31, 85, 11, 9000, 8500),\n",
    "       (17, 'Flota de la Unidad', 18, 50, 9, 6740, 1800),\n",
    "       (18, 'Flota de la Diversidad', 28, 60, 14, 5280, 7000),\n",
    "       (19, 'Flota de la Solidaridad', 23, 70, 7, 3190, 2800),\n",
    "       (20, 'Flota del Egoísmo', 33, 80, 12, 8330, 9000);\n",
    "\n",
    "INSERT INTO bandos (id_bando, bando, fecha_entrada, fecha_salida, id_division_json_fk, id_comerciante_json_fk, id_lider_json_fk)\n",
    "VALUES (1, 'Imperio Galactico', '8000-11-25', '9320-12-31', '{\"Division1\":8,\"Division2\":3,\"Division3\":17}', '{\"Comerciante1\":1,\"Comerciante2\":3,\"Comerciante3\":4}', '{\"Lider1\":3,\"Lider2\":8}'),\n",
    "       (2, 'Republica Galactica', '8000-11-26', '9320-12-31', '{\"Division1\":7,\"Division2\":20}', '{\"Comerciante1\":2,\"Comerciante2\":5,\"Comerciante3\":8}', '{\"Lider1\":6,\"Lider2\":19,\"Lider3\":17}'),\n",
    "       (3, 'Alianza Rebelde', '8030-05-11', '9000-07-06', '{\"Division1\":12,\"Division2\":16,\"Division3\":3}', '{\"Comerciante1\":6,\"Comerciante2\":9}', '{\"Lider1\":20}'),\n",
    "       (4, 'Mandalorianos', '9001-06-09', '9050-10-03', '{\"Division1\":5,\"Division2\":7,\"Division3\":8,\"Division4\":14}', '{\"Comerciante1\":7,\"Comerciante2\":10}', '{\"Lider1\":12,\"Lider2\":18,\"Lider3\":5}'),\n",
    "       (5, 'Jedi', '8000-11-26', '9320-12-31', '{\"Division1\":17,\"Division2\":10,\"Division3\":15}', '{\"Comerciante1\":3,\"Comerciante2\":6}', '{\"Lider1\":10,\"Lider2\":16,\"Lider3\":4}'),\n",
    "       (6, 'Sith', '8000-11-25', '9320-12-31', '{\"Division1\":13,\"Division2\":5}', '{\"Comerciante1\":1,\"Comerciante2\":5,\"Comerciante3\":10}', '{\"Lider1\":2}'),\n",
    "       (7, 'Fuerzas de Autodefensa de la Nueva República', '8159-08-15', '8500-07-07', '{\"Division1\":15,\"Division2\":19,\"Division3\":14,\"Division4\":8}', '{\"Comerciante1\":4,\"Comerciante2\":7,\"Comerciante3\":8}', '{\"Lider1\":15,\"Lider2\":7}'),\n",
    "       (8, 'Asociación de Comercio', '8023-11-11', '9000-05-03', '{\"Division1\":18,\"Division2\":20,\"Division3\":4}', '{\"Comerciante1\":2,\"Comerciante2\":9}', '{\"Lider1\":11,\"Lider3\":13}'),\n",
    "       (9, 'Orden Jedi de la Antigua República', null, '9156-08-30', '{\"Division1\":9,\"Division2\":6,\"Division3\":20}', '{\"Comerciante1\":1,\"Comerciante2\":3}', '{\"Lider1\":1}'),\n",
    "       (10, 'Orden Sith de la Antigua República', '8800-05-15', '9300-04-25', '{\"Division1\":1,\"Division2\":12,\"Division3\":6,\"Division4\":15}', '{\"Comerciante1\":5,\"Comerciante2\":10}', '{\"Lider1\":6,\"Lider2\":16,\"Lider3\":7}'),\n",
    "       (11, 'Orden Jedi de los Jedi', '8000-11-26', '9320-12-31', '{\"Division1\":7,\"Division2\":2,\"Division3\":14}', '{\"Comerciante1\":6,\"Comerciante2\":8}', '{\"Lider1\":9,\"Lider2\":13,\"Lider3\":5}'),\n",
    "       (12, 'Orden Sith de los Sith', '8030-05-11', '9320-12-31', '{\"Division1\":16,\"Division2\":9}', '{\"Comerciante1\":4,\"Comerciante2\":7}', '{\"Lider1\":17,\"Lider2\":8}'),\n",
    "       (13, 'Cuerpo de Seguridad de la República', null, '9320-12-31', '{\"Division1\":4,\"Division2\":1,\"Division3\":8,\"Division4\":18}', '{\"Comerciante1\":2,\"Comerciante2\":5,\"Comerciante3\":9}', '{\"Lider1\":3,\"Lider2\":7,\"Lider3\":13}'),\n",
    "       (14, 'Cazarrecompensas', '8000-11-26', '9320-12-31', '{\"Division1\":4,\"Division2\":5,\"Division3\":11}', '{\"Comerciante1\":2,\"Comerciante2\":6,\"Comerciante3\":9}', '{\"Lider1\":1,\"Lider2\":2,\"Lider3\":3}'),\n",
    "       (15, 'Bando de Piratas', '8000-11-25', '9320-12-31', '{\"Division1\":8,\"Division2\":10,\"Division3\":13}', '{\"Comerciante1\":1,\"Comerciante2\":3,\"Comerciante3\":5}', '{\"Lider1\":4,\"Lider2\":6,\"Lider3\":8}'),\n",
    "       (16, 'Bando de Piratas', '8300-11-25', '9220-11-11', '{\"Division2\":8,\"Division2\":10}', '{\"Comerciante4\":1,\"Comerciante2\":3,\"Comerciante3\":2}', '{\"Lider1\":2,\"Lider2\":6,\"Lider3\":1}');\n",
    "\n",
    "INSERT INTO causa_conflictos (id_causa_conflicto, id_causa_fk, interes_json_fk)\n",
    "VALUES (1, 1, '{\"Territorio1\":1,\"Territorio2\":7}'),\n",
    "       (2, 1, '{\"Territorio1\":2,\"Territorio2\":8,\"Territorio3\":10,\"Territorio4\":7}'),\n",
    "       (3, 2, '{\"Religion1\":1,\"Religion2\":2}'),\n",
    "       (4, 2, '{\"Religion1\":4,\"Religion2\":6,\"Religion3\":9}'),\n",
    "       (5, 3, '{\"Suministro1\":3,\"Suministro2\":2,\"Suministro3\":6,\"Suministro4\":4}'),\n",
    "       (6, 3, '{\"Suministro1\":9,\"Suministro2\":8,\"Suministro3\":5,\"Suministro4\":3,\"Suministro5\":2,\"Suministro6\":7}'),\n",
    "       (7, 4, '{\"Raza1\":1,\"Raza2\":2,\"Raza3\":6,\"Raza4\":11}'),\n",
    "       (8, 4, '{\"Raza1\":1,\"Raza2\":12,\"Raza3\":4,\"Raza4\":1,\"Raza5\":11,\"Raza6\":5}');\n",
    "       \n",
    "INSERT INTO org_mediadoras (id_org, mediador, tipo, organizacion, fecha_entrada, fecha_salida, id_lider_json_fk)\n",
    "VALUES (1, 'Ahsoka Tano', 'Jedi', 'Orden Jedi', '8045-06-12', '8136-12-22', '{\"Lider1\":1}'),\n",
    "       (2, 'Kanan Jarrus', 'Jedi', 'Orden Jedi (en el exilio)', '8102-03-05', '8105-07-25', '{\"Lider1\":2}'),\n",
    "       (3, 'Jango Fett', 'Cazarrecompensas', 'Independiente', '8198-11-18', '8203-06-07', '{\"Lider1\":3,\"Lider2\":11}'),\n",
    "       (4, 'Luke Skywalker', 'Jedi', 'Orden Jedi', '8234-02-09', null, '{\"Lider1\":4}'),\n",
    "       (5, 'Anakin Skywalker', 'Jedi', 'Orden Jedi', '8237-01-09', '8241-12-30', '{\"Lider1\":5}'),\n",
    "       (6, 'Asajj Ventress', 'Sith', 'Orden Sith', '8280-05-21', '8247-09-30', '{\"Lider1\":6,\"Lider2\":10}'),\n",
    "       (7, 'General Grievous', 'Cyborg', 'Droid Armada', '8290-11-15', null, '{\"Lider1\":7,\"Lider2\":16}'),\n",
    "       (8, 'Supreme Leader Snoke', 'Sith', 'Primer Orden', '8362-02-28', '8235-07-05', '{\"Lider1\":8}'),\n",
    "       (9, 'Rey', 'Jedi', 'Orden Jedi', '8488-06-15', '8599-12-25', '{\"Lider1\":9,\"Lider2\":1}'),\n",
    "       (10, 'Finn', 'Stormtrooper desertor', 'Fuerzas de la Alianza Rebelde', '8494-03-08', '8503-12-19', '{\"Lider1\":10,\"Lider2\":7}'),\n",
    "       (11,'Poe Dameron','Piloto','Fuerzas de la Alianza Rebelde','8491-06-20','8502-02-23','{\"Lider1\":11}'),\n",
    "       (12,'Rose Tico','Ingeniera','Fuerzas de la Alianza Rebelde','8490-11-20','8501-06-10','{\"Lider1\":12,\"Lider2\":8}'),\n",
    "       (13,'Maz Kanata','Líder pirate','Independiente','8557-09-05',null,'{\"Lider1\":13}'),\n",
    "       (14,'BB-8','Droide','Fuerzas de la Alianza Rebelde','8537-01-13','8542-07-18','{\"Lider1\":14}'),\n",
    "       (15,'R2-D2','Droide','Orden Jedi','8584-05-26','8588-07-05','{\"Lider1\":15}');\n",
    "       \n",
    "INSERT INTO conflictos (id_conflicto, Conflicto, muertos, heridos, id_causa_conflicto_fk, id_planeta_fk, id_org_fk, id_bando_json_fk)\n",
    "VALUES (1, 'Batalla de Geonosis', 3940, 14560, 1, 11, 12, '{\"Bando1\":1,\"Bando2\":2}'),\n",
    "       (2, 'Batalla de Coruscant', 108, 8168, 2, 9, 5, '{\"Bando1\":3,\"Bando2\":4,\"Bando3\":5}'),\n",
    "       (3, \"Batalla de Hoth\",782, 24335, 3, 4,null, '{\"Bando1\":6,\"Bando2\":7,\"Bando3\":8}'),\n",
    "       (4, \"Batalla de Endor\",384, 7713, 4, 7, 5, '{\"Bando1\":9,\"Bando2\":10,\"Bando3\":11}'),\n",
    "       (5, \"Batalla de Christophsis\",376, 27948, 5, 19, 13, '{\"Bando1\":12,\"Bando2\":13,\"Bando3\":14}'),\n",
    "       (6, \"Batalla de Felucia\",375, 16564, 6, 17, 5, '{\"Bando1\":15,\"Bando2\":1,\"Bando3\":2}'),\n",
    "       (7, \"Batalla de Naboo\",103, 17360, 7, 8, null, '{\"Bando1\":16,\"Bando2\":4,\"Bando3\":5}'),\n",
    "       (8, 'Batalla de Kashyyyk', 565, 29342, 8, 14, null, '{\"Bando1\":6,\"Bando2\":7,\"Bando3\":8}'),\n",
    "       (9, 'Batalla de Mustafar', 578, 19015, 1, 13, 5, '{\"Bando1\":9,\"Bando2\":10,\"Bando3\":11}'),\n",
    "       (10, 'Batalla de Mon Cala', 578, 6252, 2, 20, null, '{\"Bando1\":12,\"Bando2\":13,\"Bando3\":14}'),\n",
    "       (11, 'Batalla de Yavin', 775, 6152, 3, 3, 5, '{\"Bando1\":15,\"Bando2\":1,\"Bando3\":2}'),\n",
    "       (12, 'Batalla de Dantooine', 148, 2389, 4, 6, 12, '{\"Bando1\":3,\"Bando2\":4,\"Bando3\":5}'),\n",
    "       (13, 'Batalla de Dathomir', 359, 14264, 5, 3, 3, '{\"Bando1\":6,\"Bando2\":7,\"Bando3\":8}'),\n",
    "       (14, 'Batalla de Scarif', 299, 12459, 6, 4, null, '{\"Bando1\":9,\"Bando2\":10,\"Bando3\":11}'),\n",
    "       (15, 'Batalla de Hissrich', 161, 1429, 7, 7, 4, '{\"Bando1\":12,\"Bando2\":13,\"Bando3\":14}'),\n",
    "       (16, 'Batalla de Korsinata', 295, 2943, 8, 18, null, '{\"Bando1\":5,\"Bando2\":6,\"Bando3\":7,\"Bando4\":8}'),\n",
    "       (17, 'Batalla de Ryloth', 463, 23486, 1, 5, 1, '{\"Bando1\":9,\"Bando2\":10,\"Bando3\":11,\"Bando4\":12}'),\n",
    "       (18, 'Batalla de Kamino', 818, 6758, 2, 10, null, '{\"Bando1\":13,\"Bando2\":14,\"Bando3\":15,\"Bando4\":1}'),\n",
    "       (19, 'Batalla de Utapau', 747, 3941, 3, 12, 10, '{\"Bando1\":2,\"Bando2\":3,\"Bando3\":4,\"Bando4\":5}'),\n",
    "       (20, 'Batalla de Saleucami', 309, 19575, 4, 15, 1, '{\"Bando1\":6,\"Bando2\":7,\"Bando3\":8,\"Bando4\":9}');\n",
    "\"\"\"\n",
    "\n",
    "\n"
   ]
  },
  {
   "cell_type": "code",
   "execution_count": null,
   "id": "50e82f69",
   "metadata": {},
   "outputs": [],
   "source": []
  }
 ],
 "metadata": {
  "kernelspec": {
   "display_name": "Python 3 (ipykernel)",
   "language": "python",
   "name": "python3"
  },
  "language_info": {
   "codemirror_mode": {
    "name": "ipython",
    "version": 3
   },
   "file_extension": ".py",
   "mimetype": "text/x-python",
   "name": "python",
   "nbconvert_exporter": "python",
   "pygments_lexer": "ipython3",
   "version": "3.9.12"
  },
  "toc": {
   "base_numbering": 1,
   "nav_menu": {},
   "number_sections": true,
   "sideBar": true,
   "skip_h1_title": false,
   "title_cell": "Table of Contents",
   "title_sidebar": "Contents",
   "toc_cell": false,
   "toc_position": {},
   "toc_section_display": true,
   "toc_window_display": false
  },
  "varInspector": {
   "cols": {
    "lenName": 16,
    "lenType": 16,
    "lenVar": 40
   },
   "kernels_config": {
    "python": {
     "delete_cmd_postfix": "",
     "delete_cmd_prefix": "del ",
     "library": "var_list.py",
     "varRefreshCmd": "print(var_dic_list())"
    },
    "r": {
     "delete_cmd_postfix": ") ",
     "delete_cmd_prefix": "rm(",
     "library": "var_list.r",
     "varRefreshCmd": "cat(var_dic_list()) "
    }
   },
   "types_to_exclude": [
    "module",
    "function",
    "builtin_function_or_method",
    "instance",
    "_Feature"
   ],
   "window_display": false
  }
 },
 "nbformat": 4,
 "nbformat_minor": 5
}
